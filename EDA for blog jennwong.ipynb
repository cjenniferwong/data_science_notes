{
 "cells": [
  {
   "cell_type": "code",
   "execution_count": 4,
   "metadata": {
    "ExecuteTime": {
     "end_time": "2020-03-16T00:09:21.564827Z",
     "start_time": "2020-03-16T00:09:20.161160Z"
    }
   },
   "outputs": [
    {
     "data": {
      "text/plain": [
       "['data/stories_2019.csv', 'data/reactions_2019.csv']"
      ]
     },
     "execution_count": 4,
     "metadata": {},
     "output_type": "execute_result"
    }
   ],
   "source": [
    "import pandas as pd\n",
    "import numpy as np\n",
    "import scipy as sci\n",
    "import matplotlib.pyplot as plt\n",
    "%matplotlib inline\n",
    "import seaborn as sns\n",
    "plt.style.use('ggplot')\n",
    "\n",
    "\n",
    "from glob import glob\n",
    "\n",
    "data_files = glob('data/*')\n",
    "data_files"
   ]
  },
  {
   "cell_type": "code",
   "execution_count": 3,
   "metadata": {
    "ExecuteTime": {
     "end_time": "2020-03-16T00:08:45.830040Z",
     "start_time": "2020-03-16T00:08:45.790682Z"
    }
   },
   "outputs": [],
   "source": [
    "stories_df = pd.read_csv(data_files[0])"
   ]
  },
  {
   "cell_type": "code",
   "execution_count": 5,
   "metadata": {
    "ExecuteTime": {
     "end_time": "2020-03-16T00:09:26.850446Z",
     "start_time": "2020-03-16T00:09:26.819194Z"
    }
   },
   "outputs": [
    {
     "data": {
      "text/html": [
       "<div>\n",
       "<style scoped>\n",
       "    .dataframe tbody tr th:only-of-type {\n",
       "        vertical-align: middle;\n",
       "    }\n",
       "\n",
       "    .dataframe tbody tr th {\n",
       "        vertical-align: top;\n",
       "    }\n",
       "\n",
       "    .dataframe thead th {\n",
       "        text-align: right;\n",
       "    }\n",
       "</style>\n",
       "<table border=\"1\" class=\"dataframe\">\n",
       "  <thead>\n",
       "    <tr style=\"text-align: right;\">\n",
       "      <th></th>\n",
       "      <th>Id</th>\n",
       "      <th>Perspective</th>\n",
       "      <th>Age</th>\n",
       "      <th>Lgbtq</th>\n",
       "      <th>Race</th>\n",
       "      <th>Phone</th>\n",
       "      <th>Topic</th>\n",
       "      <th>Title</th>\n",
       "      <th>Lede</th>\n",
       "      <th>Published at</th>\n",
       "      <th>...</th>\n",
       "      <th>Cringey</th>\n",
       "      <th>Haha</th>\n",
       "      <th>Me too</th>\n",
       "      <th>Interesting</th>\n",
       "      <th>Story texts</th>\n",
       "      <th>Link url</th>\n",
       "      <th>Link photo url</th>\n",
       "      <th>Link title</th>\n",
       "      <th>Link site name</th>\n",
       "      <th>Link body</th>\n",
       "    </tr>\n",
       "  </thead>\n",
       "  <tbody>\n",
       "    <tr>\n",
       "      <td>0</td>\n",
       "      <td>2269</td>\n",
       "      <td>female</td>\n",
       "      <td>19.0</td>\n",
       "      <td>no</td>\n",
       "      <td>white</td>\n",
       "      <td>870</td>\n",
       "      <td>relationships</td>\n",
       "      <td>NaN</td>\n",
       "      <td>NaN</td>\n",
       "      <td>NaN</td>\n",
       "      <td>...</td>\n",
       "      <td>0</td>\n",
       "      <td>0</td>\n",
       "      <td>0</td>\n",
       "      <td>0</td>\n",
       "      <td>Well I was in my house and when I asked my eye...</td>\n",
       "      <td>NaN</td>\n",
       "      <td>NaN</td>\n",
       "      <td>NaN</td>\n",
       "      <td>NaN</td>\n",
       "      <td>NaN</td>\n",
       "    </tr>\n",
       "    <tr>\n",
       "      <td>1</td>\n",
       "      <td>2268</td>\n",
       "      <td>female</td>\n",
       "      <td>18.0</td>\n",
       "      <td>no</td>\n",
       "      <td>white</td>\n",
       "      <td>3253073887</td>\n",
       "      <td>bullying</td>\n",
       "      <td>NaN</td>\n",
       "      <td>I just need to work on my confidence</td>\n",
       "      <td>2020-01-06 00:00:00 UTC</td>\n",
       "      <td>...</td>\n",
       "      <td>1</td>\n",
       "      <td>1</td>\n",
       "      <td>1</td>\n",
       "      <td>1</td>\n",
       "      <td>My confident isnt the best. Its not with the w...</td>\n",
       "      <td>https://kidshealth.org/en/teens/self-esteem.html</td>\n",
       "      <td>NaN</td>\n",
       "      <td>How can I improve my self-esteem?</td>\n",
       "      <td>Teens Health</td>\n",
       "      <td>NaN</td>\n",
       "    </tr>\n",
       "    <tr>\n",
       "      <td>2</td>\n",
       "      <td>2267</td>\n",
       "      <td>female</td>\n",
       "      <td>18.0</td>\n",
       "      <td>yes</td>\n",
       "      <td>other</td>\n",
       "      <td>(304) 691-3740</td>\n",
       "      <td>puberty</td>\n",
       "      <td>NaN</td>\n",
       "      <td>NaN</td>\n",
       "      <td>NaN</td>\n",
       "      <td>...</td>\n",
       "      <td>0</td>\n",
       "      <td>0</td>\n",
       "      <td>0</td>\n",
       "      <td>0</td>\n",
       "      <td>His name is Jeffery but we call him jeff💖; I a...</td>\n",
       "      <td>NaN</td>\n",
       "      <td>NaN</td>\n",
       "      <td>NaN</td>\n",
       "      <td>NaN</td>\n",
       "      <td>NaN</td>\n",
       "    </tr>\n",
       "    <tr>\n",
       "      <td>3</td>\n",
       "      <td>2266</td>\n",
       "      <td>female</td>\n",
       "      <td>22.0</td>\n",
       "      <td>yes</td>\n",
       "      <td>white</td>\n",
       "      <td>0575809857</td>\n",
       "      <td>bullying</td>\n",
       "      <td>NaN</td>\n",
       "      <td>NaN</td>\n",
       "      <td>NaN</td>\n",
       "      <td>...</td>\n",
       "      <td>0</td>\n",
       "      <td>0</td>\n",
       "      <td>0</td>\n",
       "      <td>0</td>\n",
       "      <td>The was Robert My boyfriend ; Nothing really. ...</td>\n",
       "      <td>NaN</td>\n",
       "      <td>NaN</td>\n",
       "      <td>NaN</td>\n",
       "      <td>NaN</td>\n",
       "      <td>NaN</td>\n",
       "    </tr>\n",
       "    <tr>\n",
       "      <td>4</td>\n",
       "      <td>2265</td>\n",
       "      <td>female</td>\n",
       "      <td>15.0</td>\n",
       "      <td>yes</td>\n",
       "      <td>Latina</td>\n",
       "      <td>9793642515</td>\n",
       "      <td>puberty</td>\n",
       "      <td>NaN</td>\n",
       "      <td>NaN</td>\n",
       "      <td>NaN</td>\n",
       "      <td>...</td>\n",
       "      <td>0</td>\n",
       "      <td>0</td>\n",
       "      <td>0</td>\n",
       "      <td>0</td>\n",
       "      <td>They were my ex and I still loved him.💘But the...</td>\n",
       "      <td>NaN</td>\n",
       "      <td>NaN</td>\n",
       "      <td>NaN</td>\n",
       "      <td>NaN</td>\n",
       "      <td>NaN</td>\n",
       "    </tr>\n",
       "  </tbody>\n",
       "</table>\n",
       "<p>5 rows × 21 columns</p>\n",
       "</div>"
      ],
      "text/plain": [
       "     Id Perspective   Age Lgbtq    Race           Phone          Topic Title  \\\n",
       "0  2269      female  19.0    no   white             870  relationships   NaN   \n",
       "1  2268      female  18.0    no   white      3253073887       bullying   NaN   \n",
       "2  2267      female  18.0   yes   other  (304) 691-3740        puberty   NaN   \n",
       "3  2266      female  22.0   yes   white      0575809857       bullying   NaN   \n",
       "4  2265      female  15.0   yes  Latina      9793642515        puberty   NaN   \n",
       "\n",
       "                                   Lede             Published at  ...  \\\n",
       "0                                   NaN                      NaN  ...   \n",
       "1  I just need to work on my confidence  2020-01-06 00:00:00 UTC  ...   \n",
       "2                                   NaN                      NaN  ...   \n",
       "3                                   NaN                      NaN  ...   \n",
       "4                                   NaN                      NaN  ...   \n",
       "\n",
       "   Cringey  Haha  Me too  Interesting  \\\n",
       "0        0     0       0            0   \n",
       "1        1     1       1            1   \n",
       "2        0     0       0            0   \n",
       "3        0     0       0            0   \n",
       "4        0     0       0            0   \n",
       "\n",
       "                                         Story texts  \\\n",
       "0  Well I was in my house and when I asked my eye...   \n",
       "1  My confident isnt the best. Its not with the w...   \n",
       "2  His name is Jeffery but we call him jeff💖; I a...   \n",
       "3  The was Robert My boyfriend ; Nothing really. ...   \n",
       "4  They were my ex and I still loved him.💘But the...   \n",
       "\n",
       "                                           Link url Link photo url  \\\n",
       "0                                               NaN            NaN   \n",
       "1  https://kidshealth.org/en/teens/self-esteem.html            NaN   \n",
       "2                                               NaN            NaN   \n",
       "3                                               NaN            NaN   \n",
       "4                                               NaN            NaN   \n",
       "\n",
       "                          Link title Link site name Link body  \n",
       "0                                NaN            NaN       NaN  \n",
       "1  How can I improve my self-esteem?   Teens Health       NaN  \n",
       "2                                NaN            NaN       NaN  \n",
       "3                                NaN            NaN       NaN  \n",
       "4                                NaN            NaN       NaN  \n",
       "\n",
       "[5 rows x 21 columns]"
      ]
     },
     "execution_count": 5,
     "metadata": {},
     "output_type": "execute_result"
    }
   ],
   "source": [
    "# to check that it loaded in correctly\n",
    "stories_df.head()"
   ]
  },
  {
   "cell_type": "code",
   "execution_count": 7,
   "metadata": {
    "ExecuteTime": {
     "end_time": "2020-03-16T00:10:08.350908Z",
     "start_time": "2020-03-16T00:10:08.344527Z"
    }
   },
   "outputs": [
    {
     "name": "stdout",
     "output_type": "stream",
     "text": [
      "Index(['Id', 'Perspective', 'Age', 'Lgbtq', 'Race', 'Phone', 'Topic', 'Title',\n",
      "       'Lede', 'Published at', 'Like', 'Cringey', 'Haha', 'Me too',\n",
      "       'Interesting', 'Story texts', 'Link url', 'Link photo url',\n",
      "       'Link title', 'Link site name', 'Link body'],\n",
      "      dtype='object')\n"
     ]
    }
   ],
   "source": [
    "print(stories_df.columns)"
   ]
  },
  {
   "cell_type": "code",
   "execution_count": 6,
   "metadata": {
    "ExecuteTime": {
     "end_time": "2020-03-16T00:09:57.116043Z",
     "start_time": "2020-03-16T00:09:57.095122Z"
    }
   },
   "outputs": [
    {
     "name": "stdout",
     "output_type": "stream",
     "text": [
      "<class 'pandas.core.frame.DataFrame'>\n",
      "RangeIndex: 2061 entries, 0 to 2060\n",
      "Data columns (total 21 columns):\n",
      "Id                2061 non-null int64\n",
      "Perspective       2061 non-null object\n",
      "Age               1595 non-null float64\n",
      "Lgbtq             1595 non-null object\n",
      "Race              1595 non-null object\n",
      "Phone             1595 non-null object\n",
      "Topic             2061 non-null object\n",
      "Title             701 non-null object\n",
      "Lede              817 non-null object\n",
      "Published at      819 non-null object\n",
      "Like              2061 non-null int64\n",
      "Cringey           2061 non-null int64\n",
      "Haha              2061 non-null int64\n",
      "Me too            2061 non-null int64\n",
      "Interesting       2061 non-null int64\n",
      "Story texts       2060 non-null object\n",
      "Link url          819 non-null object\n",
      "Link photo url    427 non-null object\n",
      "Link title        819 non-null object\n",
      "Link site name    734 non-null object\n",
      "Link body         21 non-null object\n",
      "dtypes: float64(1), int64(6), object(14)\n",
      "memory usage: 338.3+ KB\n"
     ]
    }
   ],
   "source": [
    "# what kind of data are we working with\n",
    "stories_df.info()"
   ]
  },
  {
   "cell_type": "code",
   "execution_count": 23,
   "metadata": {
    "ExecuteTime": {
     "end_time": "2020-03-16T00:16:01.129957Z",
     "start_time": "2020-03-16T00:16:01.115342Z"
    }
   },
   "outputs": [
    {
     "data": {
      "text/plain": [
       "story_id           0\n",
       "perspective       65\n",
       "age              466\n",
       "lgbtq            466\n",
       "race             466\n",
       "topic              0\n",
       "published_at    1242\n",
       "like               0\n",
       "cringey            0\n",
       "haha               0\n",
       "me_too             0\n",
       "interesting        0\n",
       "story_texts        1\n",
       "dtype: int64"
      ]
     },
     "execution_count": 23,
     "metadata": {},
     "output_type": "execute_result"
    }
   ],
   "source": [
    "# checking missing values\n",
    "stories_df.isna().sum()"
   ]
  },
  {
   "cell_type": "code",
   "execution_count": 9,
   "metadata": {
    "ExecuteTime": {
     "end_time": "2020-03-16T00:11:57.601481Z",
     "start_time": "2020-03-16T00:11:57.595467Z"
    }
   },
   "outputs": [],
   "source": [
    "# cleaning up the column names\n",
    "stories_df.columns = [column.lower().replace(' ', '_') for column in stories_df.columns]"
   ]
  },
  {
   "cell_type": "code",
   "execution_count": 22,
   "metadata": {
    "ExecuteTime": {
     "end_time": "2020-03-16T00:15:58.762507Z",
     "start_time": "2020-03-16T00:15:58.752967Z"
    }
   },
   "outputs": [],
   "source": [
    "# getting rid of columns that aren't that useful for the analysis\n",
    "\n",
    "drop_columns = [column for column in stories_df.columns if 'link' in column.lower()]\n",
    "drop_columns.extend(['title', 'lede', 'phone']) # adding more columns to drop\n",
    "stories_df.drop(drop_columns, axis=1, inplace=True, errors='ignore')"
   ]
  },
  {
   "cell_type": "code",
   "execution_count": 10,
   "metadata": {
    "ExecuteTime": {
     "end_time": "2020-03-16T00:12:13.432348Z",
     "start_time": "2020-03-16T00:12:13.425827Z"
    }
   },
   "outputs": [],
   "source": [
    "stories_df.rename(columns={\n",
    "    'id':'story_id'\n",
    "}, inplace=True)"
   ]
  },
  {
   "cell_type": "code",
   "execution_count": 31,
   "metadata": {
    "ExecuteTime": {
     "end_time": "2020-03-16T00:20:18.841620Z",
     "start_time": "2020-03-16T00:20:18.758014Z"
    }
   },
   "outputs": [
    {
     "data": {
      "text/html": [
       "<div>\n",
       "<style scoped>\n",
       "    .dataframe tbody tr th:only-of-type {\n",
       "        vertical-align: middle;\n",
       "    }\n",
       "\n",
       "    .dataframe tbody tr th {\n",
       "        vertical-align: top;\n",
       "    }\n",
       "\n",
       "    .dataframe thead th {\n",
       "        text-align: right;\n",
       "    }\n",
       "</style>\n",
       "<table border=\"1\" class=\"dataframe\">\n",
       "  <thead>\n",
       "    <tr style=\"text-align: right;\">\n",
       "      <th></th>\n",
       "      <th>story_id</th>\n",
       "      <th>perspective</th>\n",
       "      <th>age</th>\n",
       "      <th>lgbtq</th>\n",
       "      <th>race</th>\n",
       "      <th>topic</th>\n",
       "      <th>published_at</th>\n",
       "      <th>like</th>\n",
       "      <th>cringey</th>\n",
       "      <th>haha</th>\n",
       "      <th>me_too</th>\n",
       "      <th>interesting</th>\n",
       "      <th>story_texts</th>\n",
       "    </tr>\n",
       "  </thead>\n",
       "  <tbody>\n",
       "    <tr>\n",
       "      <td>0</td>\n",
       "      <td>2269</td>\n",
       "      <td>female</td>\n",
       "      <td>19.0</td>\n",
       "      <td>no</td>\n",
       "      <td>white</td>\n",
       "      <td>relationships</td>\n",
       "      <td>NaN</td>\n",
       "      <td>0</td>\n",
       "      <td>0</td>\n",
       "      <td>0</td>\n",
       "      <td>0</td>\n",
       "      <td>0</td>\n",
       "      <td>Well I was in my house and when I asked my eye...</td>\n",
       "    </tr>\n",
       "    <tr>\n",
       "      <td>1</td>\n",
       "      <td>2268</td>\n",
       "      <td>female</td>\n",
       "      <td>18.0</td>\n",
       "      <td>no</td>\n",
       "      <td>white</td>\n",
       "      <td>bullying</td>\n",
       "      <td>2020-01-06 00:00:00 UTC</td>\n",
       "      <td>1</td>\n",
       "      <td>1</td>\n",
       "      <td>1</td>\n",
       "      <td>1</td>\n",
       "      <td>1</td>\n",
       "      <td>My confident isnt the best. Its not with the w...</td>\n",
       "    </tr>\n",
       "    <tr>\n",
       "      <td>2</td>\n",
       "      <td>2267</td>\n",
       "      <td>female</td>\n",
       "      <td>18.0</td>\n",
       "      <td>yes</td>\n",
       "      <td>other</td>\n",
       "      <td>puberty</td>\n",
       "      <td>NaN</td>\n",
       "      <td>0</td>\n",
       "      <td>0</td>\n",
       "      <td>0</td>\n",
       "      <td>0</td>\n",
       "      <td>0</td>\n",
       "      <td>His name is Jeffery but we call him jeff💖; I a...</td>\n",
       "    </tr>\n",
       "    <tr>\n",
       "      <td>3</td>\n",
       "      <td>2266</td>\n",
       "      <td>female</td>\n",
       "      <td>22.0</td>\n",
       "      <td>yes</td>\n",
       "      <td>white</td>\n",
       "      <td>bullying</td>\n",
       "      <td>NaN</td>\n",
       "      <td>0</td>\n",
       "      <td>0</td>\n",
       "      <td>0</td>\n",
       "      <td>0</td>\n",
       "      <td>0</td>\n",
       "      <td>The was Robert My boyfriend ; Nothing really. ...</td>\n",
       "    </tr>\n",
       "    <tr>\n",
       "      <td>4</td>\n",
       "      <td>2265</td>\n",
       "      <td>female</td>\n",
       "      <td>15.0</td>\n",
       "      <td>yes</td>\n",
       "      <td>Latina</td>\n",
       "      <td>puberty</td>\n",
       "      <td>NaN</td>\n",
       "      <td>0</td>\n",
       "      <td>0</td>\n",
       "      <td>0</td>\n",
       "      <td>0</td>\n",
       "      <td>0</td>\n",
       "      <td>They were my ex and I still loved him.💘But the...</td>\n",
       "    </tr>\n",
       "  </tbody>\n",
       "</table>\n",
       "</div>"
      ],
      "text/plain": [
       "   story_id perspective   age lgbtq    race          topic  \\\n",
       "0      2269      female  19.0    no   white  relationships   \n",
       "1      2268      female  18.0    no   white       bullying   \n",
       "2      2267      female  18.0   yes   other        puberty   \n",
       "3      2266      female  22.0   yes   white       bullying   \n",
       "4      2265      female  15.0   yes  Latina        puberty   \n",
       "\n",
       "              published_at  like  cringey  haha  me_too  interesting  \\\n",
       "0                      NaN     0        0     0       0            0   \n",
       "1  2020-01-06 00:00:00 UTC     1        1     1       1            1   \n",
       "2                      NaN     0        0     0       0            0   \n",
       "3                      NaN     0        0     0       0            0   \n",
       "4                      NaN     0        0     0       0            0   \n",
       "\n",
       "                                         story_texts  \n",
       "0  Well I was in my house and when I asked my eye...  \n",
       "1  My confident isnt the best. Its not with the w...  \n",
       "2  His name is Jeffery but we call him jeff💖; I a...  \n",
       "3  The was Robert My boyfriend ; Nothing really. ...  \n",
       "4  They were my ex and I still loved him.💘But the...  "
      ]
     },
     "execution_count": 31,
     "metadata": {},
     "output_type": "execute_result"
    }
   ],
   "source": [
    "stories_df.head()"
   ]
  },
  {
   "cell_type": "code",
   "execution_count": 12,
   "metadata": {
    "ExecuteTime": {
     "end_time": "2020-03-16T00:12:32.688629Z",
     "start_time": "2020-03-16T00:12:32.426310Z"
    }
   },
   "outputs": [
    {
     "data": {
      "text/plain": [
       "<matplotlib.axes._subplots.AxesSubplot at 0x1a190b3190>"
      ]
     },
     "execution_count": 12,
     "metadata": {},
     "output_type": "execute_result"
    },
    {
     "data": {
      "image/png": "[encoded data removed]",
      "text/plain": [
       "<Figure size 432x288 with 1 Axes>"
      ]
     },
     "metadata": {
      "needs_background": "light"
     },
     "output_type": "display_data"
    }
   ],
   "source": [
    "sns.countplot(stories_df.perspective)"
   ]
  },
  {
   "cell_type": "code",
   "execution_count": 14,
   "metadata": {
    "ExecuteTime": {
     "end_time": "2020-03-16T00:13:26.683649Z",
     "start_time": "2020-03-16T00:13:26.675291Z"
    }
   },
   "outputs": [],
   "source": [
    "# going to replace the 'not-shared' if na\n",
    "\n",
    "stories_df.perspective = stories_df.perspective.replace('not-shared', np.nan)"
   ]
  },
  {
   "cell_type": "code",
   "execution_count": 15,
   "metadata": {
    "ExecuteTime": {
     "end_time": "2020-03-16T00:13:32.268655Z",
     "start_time": "2020-03-16T00:13:32.062960Z"
    }
   },
   "outputs": [
    {
     "data": {
      "text/plain": [
       "<matplotlib.axes._subplots.AxesSubplot at 0x1a19cec1d0>"
      ]
     },
     "execution_count": 15,
     "metadata": {},
     "output_type": "execute_result"
    },
    {
     "data": {
      "image/png": "[encoded data removed]",
      "text/plain": [
       "<Figure size 432x288 with 1 Axes>"
      ]
     },
     "metadata": {
      "needs_background": "light"
     },
     "output_type": "display_data"
    }
   ],
   "source": [
    "# checking to make sure it worked the way we expected it to\n",
    "\n",
    "# always sanity check things and spot check\n",
    "sns.countplot(stories_df.perspective)"
   ]
  },
  {
   "cell_type": "code",
   "execution_count": 16,
   "metadata": {
    "ExecuteTime": {
     "end_time": "2020-03-16T00:14:18.602795Z",
     "start_time": "2020-03-16T00:14:18.424628Z"
    }
   },
   "outputs": [
    {
     "data": {
      "text/plain": [
       "<matplotlib.axes._subplots.AxesSubplot at 0x1a19d64cd0>"
      ]
     },
     "execution_count": 16,
     "metadata": {},
     "output_type": "execute_result"
    },
    {
     "data": {
      "image/png": "[encoded data removed]",
      "text/plain": [
       "<Figure size 432x288 with 1 Axes>"
      ]
     },
     "metadata": {
      "needs_background": "light"
     },
     "output_type": "display_data"
    }
   ],
   "source": [
    "sns.countplot(stories_df.lgbtq)"
   ]
  },
  {
   "cell_type": "code",
   "execution_count": 29,
   "metadata": {
    "ExecuteTime": {
     "end_time": "2020-03-16T00:18:02.900306Z",
     "start_time": "2020-03-16T00:18:02.380772Z"
    }
   },
   "outputs": [
    {
     "data": {
      "text/plain": [
       "<matplotlib.axes._subplots.AxesSubplot at 0x1a194c92d0>"
      ]
     },
     "execution_count": 29,
     "metadata": {},
     "output_type": "execute_result"
    },
    {
     "data": {
      "image/png": "[encoded data removed]",
      "text/plain": [
       "<Figure size 432x288 with 1 Axes>"
      ]
     },
     "metadata": {
      "needs_background": "light"
     },
     "output_type": "display_data"
    }
   ],
   "source": [
    "sns.countplot(stories_df.age)"
   ]
  },
  {
   "cell_type": "code",
   "execution_count": 30,
   "metadata": {
    "ExecuteTime": {
     "end_time": "2020-03-16T00:18:23.757164Z",
     "start_time": "2020-03-16T00:18:23.564539Z"
    }
   },
   "outputs": [
    {
     "data": {
      "text/plain": [
       "<matplotlib.axes._subplots.AxesSubplot at 0x1a190b9ad0>"
      ]
     },
     "execution_count": 30,
     "metadata": {},
     "output_type": "execute_result"
    },
    {
     "data": {
      "image/png": "[encoded data removed]",
      "text/plain": [
       "<Figure size 432x288 with 1 Axes>"
      ]
     },
     "metadata": {
      "needs_background": "light"
     },
     "output_type": "display_data"
    }
   ],
   "source": [
    "sns.boxplot(stories_df.age)"
   ]
  },
  {
   "cell_type": "code",
   "execution_count": null,
   "metadata": {},
   "outputs": [],
   "source": []
  }
 ],
 "metadata": {
  "kernelspec": {
   "display_name": "Python 3",
   "language": "python",
   "name": "python3"
  },
  "language_info": {
   "codemirror_mode": {
    "name": "ipython",
    "version": 3
   },
   "file_extension": ".py",
   "mimetype": "text/x-python",
   "name": "python",
   "nbconvert_exporter": "python",
   "pygments_lexer": "ipython3",
   "version": "3.7.4"
  },
  "varInspector": {
   "cols": {
    "lenName": 16,
    "lenType": 16,
    "lenVar": 40
   },
   "kernels_config": {
    "python": {
     "delete_cmd_postfix": "",
     "delete_cmd_prefix": "del ",
     "library": "var_list.py",
     "varRefreshCmd": "print(var_dic_list())"
    },
    "r": {
     "delete_cmd_postfix": ") ",
     "delete_cmd_prefix": "rm(",
     "library": "var_list.r",
     "varRefreshCmd": "cat(var_dic_list()) "
    }
   },
   "types_to_exclude": [
    "module",
    "function",
    "builtin_function_or_method",
    "instance",
    "_Feature"
   ],
   "window_display": false
  }
 },
 "nbformat": 4,
 "nbformat_minor": 2
}
