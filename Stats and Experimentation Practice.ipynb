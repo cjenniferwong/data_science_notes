{
 "cells": [
  {
   "cell_type": "code",
   "execution_count": 2,
   "metadata": {
    "ExecuteTime": {
     "end_time": "2020-03-16T20:00:15.499340Z",
     "start_time": "2020-03-16T20:00:14.884779Z"
    }
   },
   "outputs": [],
   "source": [
    "import pandas as pd\n",
    "import numpy as np\n",
    "import scipy\n",
    "import matplotlib.pyplot as plt\n",
    "%matplotlib inline\n",
    "\n",
    "import seaborn as sns\n",
    "\n",
    "jennwong_color = '#240FAB'\n",
    "\n",
    "from glob import glob\n",
    "datafiles = glob('data/*')"
   ]
  },
  {
   "cell_type": "code",
   "execution_count": 80,
   "metadata": {
    "ExecuteTime": {
     "end_time": "2020-03-16T20:26:53.249464Z",
     "start_time": "2020-03-16T20:26:53.243907Z"
    }
   },
   "outputs": [],
   "source": [
    "from sklearn.model_selection import train_test_split"
   ]
  },
  {
   "cell_type": "code",
   "execution_count": 4,
   "metadata": {
    "ExecuteTime": {
     "end_time": "2020-03-16T20:01:42.179996Z",
     "start_time": "2020-03-16T20:01:42.064106Z"
    }
   },
   "outputs": [
    {
     "data": {
      "text/html": [
       "<div>\n",
       "<style scoped>\n",
       "    .dataframe tbody tr th:only-of-type {\n",
       "        vertical-align: middle;\n",
       "    }\n",
       "\n",
       "    .dataframe tbody tr th {\n",
       "        vertical-align: top;\n",
       "    }\n",
       "\n",
       "    .dataframe thead th {\n",
       "        text-align: right;\n",
       "    }\n",
       "</style>\n",
       "<table border=\"1\" class=\"dataframe\">\n",
       "  <thead>\n",
       "    <tr style=\"text-align: right;\">\n",
       "      <th></th>\n",
       "      <th>Id</th>\n",
       "      <th>Perspective</th>\n",
       "      <th>Age</th>\n",
       "      <th>Lgbtq</th>\n",
       "      <th>Race</th>\n",
       "      <th>Phone</th>\n",
       "      <th>Topic</th>\n",
       "      <th>Title</th>\n",
       "      <th>Lede</th>\n",
       "      <th>Published at</th>\n",
       "      <th>...</th>\n",
       "      <th>Cringey</th>\n",
       "      <th>Haha</th>\n",
       "      <th>Me too</th>\n",
       "      <th>Interesting</th>\n",
       "      <th>Story texts</th>\n",
       "      <th>Link url</th>\n",
       "      <th>Link photo url</th>\n",
       "      <th>Link title</th>\n",
       "      <th>Link site name</th>\n",
       "      <th>Link body</th>\n",
       "    </tr>\n",
       "  </thead>\n",
       "  <tbody>\n",
       "    <tr>\n",
       "      <td>0</td>\n",
       "      <td>2269</td>\n",
       "      <td>female</td>\n",
       "      <td>19.0</td>\n",
       "      <td>no</td>\n",
       "      <td>white</td>\n",
       "      <td>870</td>\n",
       "      <td>relationships</td>\n",
       "      <td>NaN</td>\n",
       "      <td>NaN</td>\n",
       "      <td>NaN</td>\n",
       "      <td>...</td>\n",
       "      <td>0</td>\n",
       "      <td>0</td>\n",
       "      <td>0</td>\n",
       "      <td>0</td>\n",
       "      <td>Well I was in my house and when I asked my eye...</td>\n",
       "      <td>NaN</td>\n",
       "      <td>NaN</td>\n",
       "      <td>NaN</td>\n",
       "      <td>NaN</td>\n",
       "      <td>NaN</td>\n",
       "    </tr>\n",
       "    <tr>\n",
       "      <td>1</td>\n",
       "      <td>2268</td>\n",
       "      <td>female</td>\n",
       "      <td>18.0</td>\n",
       "      <td>no</td>\n",
       "      <td>white</td>\n",
       "      <td>3253073887</td>\n",
       "      <td>bullying</td>\n",
       "      <td>NaN</td>\n",
       "      <td>I just need to work on my confidence</td>\n",
       "      <td>2020-01-06 00:00:00 UTC</td>\n",
       "      <td>...</td>\n",
       "      <td>1</td>\n",
       "      <td>1</td>\n",
       "      <td>1</td>\n",
       "      <td>1</td>\n",
       "      <td>My confident isnt the best. Its not with the w...</td>\n",
       "      <td>https://kidshealth.org/en/teens/self-esteem.html</td>\n",
       "      <td>NaN</td>\n",
       "      <td>How can I improve my self-esteem?</td>\n",
       "      <td>Teens Health</td>\n",
       "      <td>NaN</td>\n",
       "    </tr>\n",
       "    <tr>\n",
       "      <td>2</td>\n",
       "      <td>2267</td>\n",
       "      <td>female</td>\n",
       "      <td>18.0</td>\n",
       "      <td>yes</td>\n",
       "      <td>other</td>\n",
       "      <td>(304) 691-3740</td>\n",
       "      <td>puberty</td>\n",
       "      <td>NaN</td>\n",
       "      <td>NaN</td>\n",
       "      <td>NaN</td>\n",
       "      <td>...</td>\n",
       "      <td>0</td>\n",
       "      <td>0</td>\n",
       "      <td>0</td>\n",
       "      <td>0</td>\n",
       "      <td>His name is Jeffery but we call him jeff💖; I a...</td>\n",
       "      <td>NaN</td>\n",
       "      <td>NaN</td>\n",
       "      <td>NaN</td>\n",
       "      <td>NaN</td>\n",
       "      <td>NaN</td>\n",
       "    </tr>\n",
       "    <tr>\n",
       "      <td>3</td>\n",
       "      <td>2266</td>\n",
       "      <td>female</td>\n",
       "      <td>22.0</td>\n",
       "      <td>yes</td>\n",
       "      <td>white</td>\n",
       "      <td>0575809857</td>\n",
       "      <td>bullying</td>\n",
       "      <td>NaN</td>\n",
       "      <td>NaN</td>\n",
       "      <td>NaN</td>\n",
       "      <td>...</td>\n",
       "      <td>0</td>\n",
       "      <td>0</td>\n",
       "      <td>0</td>\n",
       "      <td>0</td>\n",
       "      <td>The was Robert My boyfriend ; Nothing really. ...</td>\n",
       "      <td>NaN</td>\n",
       "      <td>NaN</td>\n",
       "      <td>NaN</td>\n",
       "      <td>NaN</td>\n",
       "      <td>NaN</td>\n",
       "    </tr>\n",
       "    <tr>\n",
       "      <td>4</td>\n",
       "      <td>2265</td>\n",
       "      <td>female</td>\n",
       "      <td>15.0</td>\n",
       "      <td>yes</td>\n",
       "      <td>Latina</td>\n",
       "      <td>9793642515</td>\n",
       "      <td>puberty</td>\n",
       "      <td>NaN</td>\n",
       "      <td>NaN</td>\n",
       "      <td>NaN</td>\n",
       "      <td>...</td>\n",
       "      <td>0</td>\n",
       "      <td>0</td>\n",
       "      <td>0</td>\n",
       "      <td>0</td>\n",
       "      <td>They were my ex and I still loved him.💘But the...</td>\n",
       "      <td>NaN</td>\n",
       "      <td>NaN</td>\n",
       "      <td>NaN</td>\n",
       "      <td>NaN</td>\n",
       "      <td>NaN</td>\n",
       "    </tr>\n",
       "  </tbody>\n",
       "</table>\n",
       "<p>5 rows × 21 columns</p>\n",
       "</div>"
      ],
      "text/plain": [
       "     Id Perspective   Age Lgbtq    Race           Phone          Topic Title  \\\n",
       "0  2269      female  19.0    no   white             870  relationships   NaN   \n",
       "1  2268      female  18.0    no   white      3253073887       bullying   NaN   \n",
       "2  2267      female  18.0   yes   other  (304) 691-3740        puberty   NaN   \n",
       "3  2266      female  22.0   yes   white      0575809857       bullying   NaN   \n",
       "4  2265      female  15.0   yes  Latina      9793642515        puberty   NaN   \n",
       "\n",
       "                                   Lede             Published at  ...  \\\n",
       "0                                   NaN                      NaN  ...   \n",
       "1  I just need to work on my confidence  2020-01-06 00:00:00 UTC  ...   \n",
       "2                                   NaN                      NaN  ...   \n",
       "3                                   NaN                      NaN  ...   \n",
       "4                                   NaN                      NaN  ...   \n",
       "\n",
       "   Cringey  Haha  Me too  Interesting  \\\n",
       "0        0     0       0            0   \n",
       "1        1     1       1            1   \n",
       "2        0     0       0            0   \n",
       "3        0     0       0            0   \n",
       "4        0     0       0            0   \n",
       "\n",
       "                                         Story texts  \\\n",
       "0  Well I was in my house and when I asked my eye...   \n",
       "1  My confident isnt the best. Its not with the w...   \n",
       "2  His name is Jeffery but we call him jeff💖; I a...   \n",
       "3  The was Robert My boyfriend ; Nothing really. ...   \n",
       "4  They were my ex and I still loved him.💘But the...   \n",
       "\n",
       "                                           Link url Link photo url  \\\n",
       "0                                               NaN            NaN   \n",
       "1  https://kidshealth.org/en/teens/self-esteem.html            NaN   \n",
       "2                                               NaN            NaN   \n",
       "3                                               NaN            NaN   \n",
       "4                                               NaN            NaN   \n",
       "\n",
       "                          Link title Link site name Link body  \n",
       "0                                NaN            NaN       NaN  \n",
       "1  How can I improve my self-esteem?   Teens Health       NaN  \n",
       "2                                NaN            NaN       NaN  \n",
       "3                                NaN            NaN       NaN  \n",
       "4                                NaN            NaN       NaN  \n",
       "\n",
       "[5 rows x 21 columns]"
      ]
     },
     "execution_count": 4,
     "metadata": {},
     "output_type": "execute_result"
    }
   ],
   "source": [
    "stories_data = pd.read_csv(datafiles[0])\n",
    "stories_data.head()"
   ]
  },
  {
   "cell_type": "markdown",
   "metadata": {},
   "source": [
    "### Data Cleaning\n",
    "1. dropping columns that aren't helpful\n",
    "2. drop duplicates\n",
    "3. renaming columns to make them more useful"
   ]
  },
  {
   "cell_type": "code",
   "execution_count": 6,
   "metadata": {
    "ExecuteTime": {
     "end_time": "2020-03-16T20:05:29.741620Z",
     "start_time": "2020-03-16T20:05:29.723571Z"
    }
   },
   "outputs": [
    {
     "name": "stdout",
     "output_type": "stream",
     "text": [
      "Index(['story_id', 'perspective', 'age', 'lgbtq', 'race', 'topic',\n",
      "       'published_at', 'story_texts'],\n",
      "      dtype='object')\n"
     ]
    }
   ],
   "source": [
    "stories_data.columns = [column.lower().strip().replace(' ', '_') for column in stories_data.columns]\n",
    "drop_columns = [column for column in stories_data.columns if 'link' in column]\n",
    "\n",
    "# dropping the reactions since they aren't helpful\n",
    "drop_columns.extend(['phone', 'title', 'lede', 'like', 'cringey', 'haha', 'me_too', 'interesting'])\n",
    "\n",
    "stories_data.drop(drop_columns, axis=1, inplace=True, errors='ignore')\n",
    "\n",
    "# renaming column\n",
    "\n",
    "stories_data.rename(columns={\n",
    "    'id':'story_id'\n",
    "}, inplace=True)\n",
    "print(stories_data.columns)"
   ]
  },
  {
   "cell_type": "code",
   "execution_count": 63,
   "metadata": {
    "ExecuteTime": {
     "end_time": "2020-03-16T20:18:43.166044Z",
     "start_time": "2020-03-16T20:18:43.131747Z"
    },
    "scrolled": true
   },
   "outputs": [],
   "source": [
    "reactions_data = pd.read_csv(datafiles[1])\n",
    "story_reactions_count = reactions_data.groupby('Story').count()['Emoji'].to_frame().reset_index()\n",
    "story_reactions_count.rename(columns=\n",
    "    {'Story': 'story_id'\n",
    "    , 'Emoji':'reaction_count'\n",
    "    }, inplace=True)"
   ]
  },
  {
   "cell_type": "code",
   "execution_count": 70,
   "metadata": {
    "ExecuteTime": {
     "end_time": "2020-03-16T20:19:10.134076Z",
     "start_time": "2020-03-16T20:19:10.120258Z"
    }
   },
   "outputs": [],
   "source": [
    "# merging the two to get a complete dataset\n",
    "\n",
    "data = pd.merge(stories_data, story_reactions_count\n",
    "         , left_on=['story_id']\n",
    "         , right_on=['story_id'], how='left')"
   ]
  },
  {
   "cell_type": "code",
   "execution_count": 71,
   "metadata": {
    "ExecuteTime": {
     "end_time": "2020-03-16T20:19:10.334006Z",
     "start_time": "2020-03-16T20:19:10.318536Z"
    }
   },
   "outputs": [
    {
     "name": "stdout",
     "output_type": "stream",
     "text": [
      "<class 'pandas.core.frame.DataFrame'>\n",
      "Int64Index: 2061 entries, 0 to 2060\n",
      "Data columns (total 9 columns):\n",
      "story_id          2061 non-null int64\n",
      "perspective       2061 non-null object\n",
      "age               1595 non-null float64\n",
      "lgbtq             1595 non-null object\n",
      "race              1595 non-null object\n",
      "topic             2061 non-null object\n",
      "published_at      819 non-null object\n",
      "story_texts       2060 non-null object\n",
      "reaction_count    681 non-null float64\n",
      "dtypes: float64(2), int64(1), object(6)\n",
      "memory usage: 161.0+ KB\n"
     ]
    }
   ],
   "source": [
    "data.info()"
   ]
  },
  {
   "cell_type": "code",
   "execution_count": 85,
   "metadata": {
    "ExecuteTime": {
     "end_time": "2020-03-16T21:06:38.619396Z",
     "start_time": "2020-03-16T21:06:38.573215Z"
    }
   },
   "outputs": [
    {
     "name": "stdout",
     "output_type": "stream",
     "text": [
      "<class 'pandas.core.frame.DataFrame'>\n",
      "RangeIndex: 2013 entries, 0 to 2012\n",
      "Data columns (total 12 columns):\n",
      "story_id          2013 non-null int64\n",
      "perspective       2013 non-null object\n",
      "age               1547 non-null float64\n",
      "lgbtq             1547 non-null object\n",
      "race              1547 non-null object\n",
      "topic             2013 non-null object\n",
      "published_at      819 non-null object\n",
      "story_texts       2013 non-null object\n",
      "reaction_count    681 non-null float64\n",
      "published         2013 non-null bool\n",
      "engaging          2013 non-null bool\n",
      "story_length      2013 non-null object\n",
      "dtypes: bool(2), float64(2), int64(1), object(7)\n",
      "memory usage: 161.3+ KB\n"
     ]
    }
   ],
   "source": [
    "data.age = data.age.astype(float)\n",
    "\n",
    "# binarize it to make it easier to work with later on\n",
    "data['published'] = data.published_at.isna()\n",
    "\n",
    "# dropping duplicates in the story text\n",
    "data.drop_duplicates(subset=['story_texts'], inplace=True)\n",
    "data.dropna(subset=['story_texts'], inplace=True)\n",
    "# need to reset index since we dropped duplicates\n",
    "data.reset_index(inplace=True)\n",
    "data.drop('index', axis=1, inplace=True)\n",
    "data.info()"
   ]
  },
  {
   "cell_type": "code",
   "execution_count": 86,
   "metadata": {
    "ExecuteTime": {
     "end_time": "2020-03-16T21:06:41.440674Z",
     "start_time": "2020-03-16T21:06:41.419736Z"
    }
   },
   "outputs": [
    {
     "data": {
      "text/html": [
       "<div>\n",
       "<style scoped>\n",
       "    .dataframe tbody tr th:only-of-type {\n",
       "        vertical-align: middle;\n",
       "    }\n",
       "\n",
       "    .dataframe tbody tr th {\n",
       "        vertical-align: top;\n",
       "    }\n",
       "\n",
       "    .dataframe thead th {\n",
       "        text-align: right;\n",
       "    }\n",
       "</style>\n",
       "<table border=\"1\" class=\"dataframe\">\n",
       "  <thead>\n",
       "    <tr style=\"text-align: right;\">\n",
       "      <th></th>\n",
       "      <th>story_id</th>\n",
       "      <th>perspective</th>\n",
       "      <th>age</th>\n",
       "      <th>lgbtq</th>\n",
       "      <th>race</th>\n",
       "      <th>topic</th>\n",
       "      <th>published_at</th>\n",
       "      <th>story_texts</th>\n",
       "      <th>reaction_count</th>\n",
       "      <th>published</th>\n",
       "      <th>engaging</th>\n",
       "      <th>story_length</th>\n",
       "    </tr>\n",
       "  </thead>\n",
       "  <tbody>\n",
       "    <tr>\n",
       "      <td>0</td>\n",
       "      <td>2269</td>\n",
       "      <td>female</td>\n",
       "      <td>19.0</td>\n",
       "      <td>no</td>\n",
       "      <td>white</td>\n",
       "      <td>relationships</td>\n",
       "      <td>NaN</td>\n",
       "      <td>Well I was in my house and when I asked my eye...</td>\n",
       "      <td>NaN</td>\n",
       "      <td>True</td>\n",
       "      <td>False</td>\n",
       "      <td>Well I was in my house and when I asked my eye...</td>\n",
       "    </tr>\n",
       "    <tr>\n",
       "      <td>1</td>\n",
       "      <td>2268</td>\n",
       "      <td>female</td>\n",
       "      <td>18.0</td>\n",
       "      <td>no</td>\n",
       "      <td>white</td>\n",
       "      <td>bullying</td>\n",
       "      <td>2020-01-06 00:00:00 UTC</td>\n",
       "      <td>My confident isnt the best. Its not with the w...</td>\n",
       "      <td>NaN</td>\n",
       "      <td>False</td>\n",
       "      <td>False</td>\n",
       "      <td>My confident isnt the best. Its not with the w...</td>\n",
       "    </tr>\n",
       "    <tr>\n",
       "      <td>2</td>\n",
       "      <td>2267</td>\n",
       "      <td>female</td>\n",
       "      <td>18.0</td>\n",
       "      <td>yes</td>\n",
       "      <td>other</td>\n",
       "      <td>puberty</td>\n",
       "      <td>NaN</td>\n",
       "      <td>His name is Jeffery but we call him jeff💖; I a...</td>\n",
       "      <td>NaN</td>\n",
       "      <td>True</td>\n",
       "      <td>False</td>\n",
       "      <td>His name is Jeffery but we call him jeff💖; I a...</td>\n",
       "    </tr>\n",
       "    <tr>\n",
       "      <td>3</td>\n",
       "      <td>2266</td>\n",
       "      <td>female</td>\n",
       "      <td>22.0</td>\n",
       "      <td>yes</td>\n",
       "      <td>white</td>\n",
       "      <td>bullying</td>\n",
       "      <td>NaN</td>\n",
       "      <td>The was Robert My boyfriend ; Nothing really. ...</td>\n",
       "      <td>NaN</td>\n",
       "      <td>True</td>\n",
       "      <td>False</td>\n",
       "      <td>The was Robert My boyfriend ; Nothing really. ...</td>\n",
       "    </tr>\n",
       "    <tr>\n",
       "      <td>4</td>\n",
       "      <td>2265</td>\n",
       "      <td>female</td>\n",
       "      <td>15.0</td>\n",
       "      <td>yes</td>\n",
       "      <td>Latina</td>\n",
       "      <td>puberty</td>\n",
       "      <td>NaN</td>\n",
       "      <td>They were my ex and I still loved him.💘But the...</td>\n",
       "      <td>NaN</td>\n",
       "      <td>True</td>\n",
       "      <td>False</td>\n",
       "      <td>They were my ex and I still loved him.💘But the...</td>\n",
       "    </tr>\n",
       "  </tbody>\n",
       "</table>\n",
       "</div>"
      ],
      "text/plain": [
       "   story_id perspective   age lgbtq    race          topic  \\\n",
       "0      2269      female  19.0    no   white  relationships   \n",
       "1      2268      female  18.0    no   white       bullying   \n",
       "2      2267      female  18.0   yes   other        puberty   \n",
       "3      2266      female  22.0   yes   white       bullying   \n",
       "4      2265      female  15.0   yes  Latina        puberty   \n",
       "\n",
       "              published_at                                        story_texts  \\\n",
       "0                      NaN  Well I was in my house and when I asked my eye...   \n",
       "1  2020-01-06 00:00:00 UTC  My confident isnt the best. Its not with the w...   \n",
       "2                      NaN  His name is Jeffery but we call him jeff💖; I a...   \n",
       "3                      NaN  The was Robert My boyfriend ; Nothing really. ...   \n",
       "4                      NaN  They were my ex and I still loved him.💘But the...   \n",
       "\n",
       "   reaction_count  published  engaging  \\\n",
       "0             NaN       True     False   \n",
       "1             NaN      False     False   \n",
       "2             NaN       True     False   \n",
       "3             NaN       True     False   \n",
       "4             NaN       True     False   \n",
       "\n",
       "                                        story_length  \n",
       "0  Well I was in my house and when I asked my eye...  \n",
       "1  My confident isnt the best. Its not with the w...  \n",
       "2  His name is Jeffery but we call him jeff💖; I a...  \n",
       "3  The was Robert My boyfriend ; Nothing really. ...  \n",
       "4  They were my ex and I still loved him.💘But the...  "
      ]
     },
     "execution_count": 86,
     "metadata": {},
     "output_type": "execute_result"
    }
   ],
   "source": [
    "data.head()"
   ]
  },
  {
   "cell_type": "code",
   "execution_count": 122,
   "metadata": {
    "ExecuteTime": {
     "end_time": "2020-03-16T21:24:38.962564Z",
     "start_time": "2020-03-16T21:24:38.948388Z"
    },
    "scrolled": true
   },
   "outputs": [
    {
     "data": {
      "text/plain": [
       "13                    215\n",
       "14                    193\n",
       "18                    151\n",
       "15                    146\n",
       "12                    124\n",
       "19                    105\n",
       "16                     94\n",
       "11                     87\n",
       "20                     79\n",
       "17                     79\n",
       "21                     49\n",
       "10                     44\n",
       "8                      26\n",
       "23                     23\n",
       "22                     21\n",
       "9                      19\n",
       "25                     16\n",
       "27                      9\n",
       "24                      6\n",
       "28                      6\n",
       "33                      6\n",
       "12345678918             4\n",
       "30                      3\n",
       "9863                    3\n",
       "60                      3\n",
       "475313                  3\n",
       "7                       3\n",
       "6                       3\n",
       "1                       3\n",
       "29                      2\n",
       "38                      2\n",
       "45                      2\n",
       "31                      2\n",
       "79                      2\n",
       "32                      2\n",
       "8000                    1\n",
       "26                      1\n",
       "40                      1\n",
       "42                      1\n",
       "50                      1\n",
       "58                      1\n",
       "9548150918              1\n",
       "1092007                 1\n",
       "1000000                 1\n",
       "1000                    1\n",
       "323568936058673728      1\n",
       "0                       1\n",
       "Name: age, dtype: int64"
      ]
     },
     "execution_count": 122,
     "metadata": {},
     "output_type": "execute_result"
    }
   ],
   "source": [
    "data.age.dropna().astype(int).value_counts()"
   ]
  },
  {
   "cell_type": "code",
   "execution_count": 123,
   "metadata": {
    "ExecuteTime": {
     "end_time": "2020-03-16T21:24:53.149816Z",
     "start_time": "2020-03-16T21:24:52.850944Z"
    }
   },
   "outputs": [
    {
     "data": {
      "text/plain": [
       "<matplotlib.axes._subplots.AxesSubplot at 0x1a2d218dd0>"
      ]
     },
     "execution_count": 123,
     "metadata": {},
     "output_type": "execute_result"
    },
    {
     "data": {
      "image/png": "[encoded data removed]",
      "text/plain": [
       "<Figure size 432x288 with 1 Axes>"
      ]
     },
     "metadata": {
      "needs_background": "light"
     },
     "output_type": "display_data"
    }
   ],
   "source": [
    "sns.distplot(data.age.dropna().astype(int))"
   ]
  },
  {
   "cell_type": "code",
   "execution_count": 88,
   "metadata": {
    "ExecuteTime": {
     "end_time": "2020-03-16T21:06:43.675530Z",
     "start_time": "2020-03-16T21:06:43.440561Z"
    }
   },
   "outputs": [
    {
     "data": {
      "text/plain": [
       "<matplotlib.axes._subplots.AxesSubplot at 0x1a241e6b10>"
      ]
     },
     "execution_count": 88,
     "metadata": {},
     "output_type": "execute_result"
    },
    {
     "data": {
      "image/png": "[encoded data removed]",
      "text/plain": [
       "<Figure size 432x288 with 1 Axes>"
      ]
     },
     "metadata": {
      "needs_background": "light"
     },
     "output_type": "display_data"
    }
   ],
   "source": [
    "sns.boxplot(data=data, x='age')"
   ]
  },
  {
   "cell_type": "code",
   "execution_count": 89,
   "metadata": {
    "ExecuteTime": {
     "end_time": "2020-03-16T21:06:44.001718Z",
     "start_time": "2020-03-16T21:06:43.775728Z"
    }
   },
   "outputs": [
    {
     "data": {
      "text/plain": [
       "<matplotlib.axes._subplots.AxesSubplot at 0x1a25bf7250>"
      ]
     },
     "execution_count": 89,
     "metadata": {},
     "output_type": "execute_result"
    },
    {
     "data": {
      "image/png": "[encoded data removed]",
      "text/plain": [
       "<Figure size 432x288 with 1 Axes>"
      ]
     },
     "metadata": {
      "needs_background": "light"
     },
     "output_type": "display_data"
    }
   ],
   "source": [
    "data.reaction_count.hist()"
   ]
  },
  {
   "cell_type": "code",
   "execution_count": 90,
   "metadata": {
    "ExecuteTime": {
     "end_time": "2020-03-16T21:06:44.097989Z",
     "start_time": "2020-03-16T21:06:44.091502Z"
    }
   },
   "outputs": [],
   "source": [
    "# what if we looked at it to see if there was a reaction or not\n",
    "\n",
    "data['engaging'] = data.reaction_count > 0"
   ]
  },
  {
   "cell_type": "code",
   "execution_count": 91,
   "metadata": {
    "ExecuteTime": {
     "end_time": "2020-03-16T21:06:44.918350Z",
     "start_time": "2020-03-16T21:06:44.423222Z"
    }
   },
   "outputs": [
    {
     "data": {
      "image/png": "[encoded data removed]",
      "text/plain": [
       "<Figure size 432x288 with 1 Axes>"
      ]
     },
     "metadata": {
      "needs_background": "light"
     },
     "output_type": "display_data"
    }
   ],
   "source": [
    "# note its not a balanced dataset we we need to either upsample or downsample\n",
    "\n",
    "# probably going to downsample\n",
    "sns.countplot(data.engaging);"
   ]
  },
  {
   "cell_type": "code",
   "execution_count": 92,
   "metadata": {
    "ExecuteTime": {
     "end_time": "2020-03-16T21:06:45.039395Z",
     "start_time": "2020-03-16T21:06:45.012715Z"
    }
   },
   "outputs": [],
   "source": [
    "data['story_length'] = data.story_texts.map(lambda x: len(x))"
   ]
  },
  {
   "cell_type": "code",
   "execution_count": 100,
   "metadata": {
    "ExecuteTime": {
     "end_time": "2020-03-16T21:11:21.801478Z",
     "start_time": "2020-03-16T21:11:21.793198Z"
    }
   },
   "outputs": [],
   "source": [
    "import string"
   ]
  },
  {
   "cell_type": "code",
   "execution_count": 110,
   "metadata": {
    "ExecuteTime": {
     "end_time": "2020-03-16T21:16:58.100685Z",
     "start_time": "2020-03-16T21:16:58.062966Z"
    }
   },
   "outputs": [
    {
     "data": {
      "text/plain": [
       "0       Well I was in my house and when I asked my eye...\n",
       "1       My confident isnt the best Its not with the wa...\n",
       "2       His name is Jeffery but we call him jeff I act...\n",
       "3       The was Robert My boyfriend  Nothing really Ju...\n",
       "4       They were my ex and I still loved himBut then ...\n",
       "                              ...                        \n",
       "2008    My parents say things that make me feel sad Im...\n",
       "2009    My crush was dating my best friend He always i...\n",
       "2010    My parents call me Larry but Ive been going by...\n",
       "2011    Yo I had a wet dream last night And when I wok...\n",
       "2012    Giiiiiirl these bumps are driving me loco Ive ...\n",
       "Name: cleaned_text, Length: 2013, dtype: object"
      ]
     },
     "execution_count": 110,
     "metadata": {},
     "output_type": "execute_result"
    }
   ],
   "source": [
    "data['cleaned_text'] = data.story_texts.map(lambda x: re.sub(r'[^\\w\\s]','', x))\n",
    "data.cleaned_text\n"
   ]
  },
  {
   "cell_type": "markdown",
   "metadata": {},
   "source": [
    "## Hypothesis:\n",
    "\n",
    "We are interested to see if any of the provided columns are good predictors of engaging content"
   ]
  },
  {
   "cell_type": "code",
   "execution_count": 129,
   "metadata": {
    "ExecuteTime": {
     "end_time": "2020-03-16T22:55:01.682229Z",
     "start_time": "2020-03-16T22:55:01.394551Z"
    }
   },
   "outputs": [
    {
     "data": {
      "image/png": "[encoded data removed]",
      "text/plain": [
       "<Figure size 432x288 with 1 Axes>"
      ]
     },
     "metadata": {
      "needs_background": "light"
     },
     "output_type": "display_data"
    }
   ],
   "source": [
    "# data transformations\n",
    "# by taking the log of the distributions, we are able to make it more normal as necessitated by logreg\n",
    "sns.distplot(data[data.engaging == False]['story_length'].map(np.log))\n",
    "sns.distplot(data[data.engaging == True]['story_length'].map(np.log))\n",
    "\n",
    "plt.show();"
   ]
  },
  {
   "cell_type": "code",
   "execution_count": 127,
   "metadata": {
    "ExecuteTime": {
     "end_time": "2020-03-16T22:54:40.576020Z",
     "start_time": "2020-03-16T22:54:40.298463Z"
    }
   },
   "outputs": [
    {
     "data": {
      "text/plain": [
       "<matplotlib.axes._subplots.AxesSubplot at 0x1a2e2ca950>"
      ]
     },
     "execution_count": 127,
     "metadata": {},
     "output_type": "execute_result"
    },
    {
     "data": {
      "image/png": "[encoded data removed]",
      "text/plain": [
       "<Figure size 432x288 with 1 Axes>"
      ]
     },
     "metadata": {
      "needs_background": "light"
     },
     "output_type": "display_data"
    }
   ],
   "source": [
    "sns.distplot(data[data.engaging == False]['story_length'].map(np.log))"
   ]
  },
  {
   "cell_type": "code",
   "execution_count": 128,
   "metadata": {
    "ExecuteTime": {
     "end_time": "2020-03-16T22:54:47.813583Z",
     "start_time": "2020-03-16T22:54:47.542748Z"
    }
   },
   "outputs": [
    {
     "data": {
      "text/plain": [
       "<matplotlib.axes._subplots.AxesSubplot at 0x1a2d4de350>"
      ]
     },
     "execution_count": 128,
     "metadata": {},
     "output_type": "execute_result"
    },
    {
     "data": {
      "image/png": "[encoded data removed]",
      "text/plain": [
       "<Figure size 432x288 with 1 Axes>"
      ]
     },
     "metadata": {
      "needs_background": "light"
     },
     "output_type": "display_data"
    }
   ],
   "source": [
    "sns.distplot(data[data.engaging == True]['story_length'].map(np.log))"
   ]
  },
  {
   "cell_type": "markdown",
   "metadata": {},
   "source": [
    "## statistical significance\n",
    "\n",
    "we want to see if story length influences whether or not the story is engaging. because we are regressing a continuous independent variable to a discrete dependent variable, we will be using logistic regression"
   ]
  },
  {
   "cell_type": "code",
   "execution_count": 124,
   "metadata": {
    "ExecuteTime": {
     "end_time": "2020-03-16T22:14:52.238112Z",
     "start_time": "2020-03-16T22:14:52.230832Z"
    }
   },
   "outputs": [],
   "source": [
    "from sklearn.linear_model import LogisticRegressionCV"
   ]
  },
  {
   "cell_type": "code",
   "execution_count": null,
   "metadata": {},
   "outputs": [],
   "source": []
  },
  {
   "cell_type": "code",
   "execution_count": null,
   "metadata": {},
   "outputs": [],
   "source": [
    "# need to look to see if they are statistically significant in differences"
   ]
  },
  {
   "cell_type": "code",
   "execution_count": 97,
   "metadata": {
    "ExecuteTime": {
     "end_time": "2020-03-16T21:10:34.169259Z",
     "start_time": "2020-03-16T21:10:34.161071Z"
    }
   },
   "outputs": [],
   "source": [
    "from nltk.tokenize import sent_tokenize, word_tokenize"
   ]
  },
  {
   "cell_type": "code",
   "execution_count": 114,
   "metadata": {
    "ExecuteTime": {
     "end_time": "2020-03-16T21:18:38.981277Z",
     "start_time": "2020-03-16T21:18:38.974802Z"
    }
   },
   "outputs": [],
   "source": [
    "def uniqueness(story_text):\n",
    "    tokenized = word_tokenize(story_text)\n",
    "    length = len(tokenized)\n",
    "    unique = len(set(tokenized))\n",
    "    if length > 0: # since you can't divide by zero\n",
    "        ratio = unique / length\n",
    "    else: ratio = 0\n",
    "    return ratio"
   ]
  },
  {
   "cell_type": "code",
   "execution_count": 116,
   "metadata": {
    "ExecuteTime": {
     "end_time": "2020-03-16T21:18:53.809616Z",
     "start_time": "2020-03-16T21:18:53.230169Z"
    }
   },
   "outputs": [],
   "source": [
    "data['uniqueness'] = data.cleaned_text.map(uniqueness)"
   ]
  },
  {
   "cell_type": "code",
   "execution_count": 135,
   "metadata": {
    "ExecuteTime": {
     "end_time": "2020-03-16T22:58:03.535993Z",
     "start_time": "2020-03-16T22:58:03.274782Z"
    }
   },
   "outputs": [
    {
     "data": {
      "image/png": "[encoded data removed]",
      "text/plain": [
       "<Figure size 432x288 with 1 Axes>"
      ]
     },
     "metadata": {
      "needs_background": "light"
     },
     "output_type": "display_data"
    }
   ],
   "source": [
    "sns.distplot(data[data['engaging']==False]['uniqueness'])\n",
    "sns.distplot(data[data['engaging']==True]['uniqueness'])\n",
    "\n",
    "plt.show();"
   ]
  },
  {
   "cell_type": "code",
   "execution_count": 134,
   "metadata": {
    "ExecuteTime": {
     "end_time": "2020-03-16T22:57:35.562692Z",
     "start_time": "2020-03-16T22:57:35.551980Z"
    }
   },
   "outputs": [
    {
     "name": "stderr",
     "output_type": "stream",
     "text": [
      "/Users/jennwong/anaconda3/lib/python3.7/site-packages/ipykernel_launcher.py:1: RuntimeWarning: divide by zero encountered in log\n",
      "  \"\"\"Entry point for launching an IPython kernel.\n"
     ]
    },
    {
     "data": {
      "text/plain": [
       "-inf"
      ]
     },
     "execution_count": 134,
     "metadata": {},
     "output_type": "execute_result"
    }
   ],
   "source": [
    "np.log(0)"
   ]
  },
  {
   "cell_type": "code",
   "execution_count": null,
   "metadata": {},
   "outputs": [],
   "source": [
    "# need to look to see if they are statistically significant in differences"
   ]
  }
 ],
 "metadata": {
  "kernelspec": {
   "display_name": "Python 3",
   "language": "python",
   "name": "python3"
  },
  "language_info": {
   "codemirror_mode": {
    "name": "ipython",
    "version": 3
   },
   "file_extension": ".py",
   "mimetype": "text/x-python",
   "name": "python",
   "nbconvert_exporter": "python",
   "pygments_lexer": "ipython3",
   "version": "3.7.4"
  },
  "varInspector": {
   "cols": {
    "lenName": 16,
    "lenType": 16,
    "lenVar": 40
   },
   "kernels_config": {
    "python": {
     "delete_cmd_postfix": "",
     "delete_cmd_prefix": "del ",
     "library": "var_list.py",
     "varRefreshCmd": "print(var_dic_list())"
    },
    "r": {
     "delete_cmd_postfix": ") ",
     "delete_cmd_prefix": "rm(",
     "library": "var_list.r",
     "varRefreshCmd": "cat(var_dic_list()) "
    }
   },
   "types_to_exclude": [
    "module",
    "function",
    "builtin_function_or_method",
    "instance",
    "_Feature"
   ],
   "window_display": false
  }
 },
 "nbformat": 4,
 "nbformat_minor": 2
}
